{
 "cells": [
  {
   "cell_type": "markdown",
   "metadata": {},
   "source": [
    "### Simualting BlackJack"
   ]
  },
  {
   "cell_type": "code",
   "execution_count": 12,
   "metadata": {
    "collapsed": true
   },
   "outputs": [],
   "source": [
    "import numpy as np\n",
    "import matplotlib.pyplot as plt\n",
    "%matplotlib inline\n",
    "import logging"
   ]
  },
  {
   "cell_type": "code",
   "execution_count": 13,
   "metadata": {
    "collapsed": true
   },
   "outputs": [],
   "source": [
    "# Logger\n",
    "logFormatter = logging.Formatter('%(levelname)s:%(message)s')\n",
    "logger = logging.getLogger('logger')\n",
    "logger.setLevel(logging.DEBUG)\n",
    "# create console handler for printing logging messages on the console\n",
    "consoleHandler = logging.StreamHandler()\n",
    "consoleHandler.setFormatter(logFormatter)\n",
    "logger.addHandler(consoleHandler)"
   ]
  },
  {
   "cell_type": "code",
   "execution_count": 14,
   "metadata": {
    "collapsed": true
   },
   "outputs": [],
   "source": [
    "class BlackJack_1P:\n",
    "    \n",
    "    \n",
    "    def __init__(self, deck, ratios, cut_card, money):\n",
    "        self.deck = deck\n",
    "        self.ratios = ratios\n",
    "        self.cut_card = cut_card\n",
    "        self.money = money\n",
    "        self.i = i\n",
    "        self.result = list()\n",
    "        self.ratios = {\"blackjack\":1.5, \"win\":1, \"push\":0, \"lost\": -1, \"insurance\": np.NaN} # ratios\n",
    "    \n",
    "    \n",
    "    def ceil_to_10(self):\n",
    "        func = lambda x: 10 if x > 10 else x\n",
    "        return np.vectorize(func)\n",
    "\n",
    "    \n",
    "    def apply_basic_strategy(player, dealer, doubling_down=True):\n",
    "        \"\"\"\n",
    "        Apply basic strategy rules given player and dealer hands.\n",
    "        Details: http://www.cs.bu.edu/~hwxi/academic/courses/CS320/Spring02/assignments/06/basic-strategy.html\n",
    "        :param player: player hand ceiled to 10\n",
    "        :param dealer: dealer hand ceiled to 10\n",
    "        :return action: one of hit, double, stand, split actions.\n",
    "        \"\"\"\n",
    "        summe = sum(player)\n",
    "        if player[0] != player[1]:\n",
    "            if 1 not in player:\n",
    "                if summe <= 8:\n",
    "                    return \"hit\"\n",
    "                elif summe == 9:\n",
    "                    if dealer >= 3 and dealer <= 6:\n",
    "                        return \"double\"\n",
    "                    return \"hit\"\n",
    "                elif summe == 10:\n",
    "                    if dealer >= 2 and dealer <= 9:\n",
    "                        return \"double\"\n",
    "                    return \"hit\"\n",
    "                elif summe == 11:\n",
    "                    if dealer >= 2 and dealer <= 10:\n",
    "                        return \"double\"\n",
    "                    return \"hit\"\n",
    "                elif summe == 12:\n",
    "                    if dealer >= 4 and dealer <= 6:\n",
    "                        return \"stand\"\n",
    "                    return \"hit\"\n",
    "                elif summe >= 13 and summe <= 16:\n",
    "                    if dealer >= 2 and dealer <= 6:\n",
    "                        return \"stand\"\n",
    "                    return \"hit\"\n",
    "                return \"stand\"\n",
    "            else:\n",
    "                if summe == 3 or summe == 4:\n",
    "                    if dealer == 5 or dealer == 6:\n",
    "                        return \"double\"\n",
    "                    return \"hit\"\n",
    "                elif summe == 5 or summe == 6:\n",
    "                    if dealer >= 4 and dealer <= 6:\n",
    "                        return \"double\"\n",
    "                    return \"hit\"\n",
    "                elif summe == 7:\n",
    "                    if dealer >= 3 and dealer <= 6:\n",
    "                        return \"double\"\n",
    "                    return \"hit\"\n",
    "                elif summe == 8:\n",
    "                    if dealer >= 3 and dealer <= 6:\n",
    "                        return \"double\"\n",
    "                    elif dealer == 2 or dealer == 7 or dealer == 8:\n",
    "                        return \"stand\"\n",
    "                    return \"hit\"\n",
    "                else:\n",
    "                    return \"stand\"\n",
    "        else:\n",
    "            if doubling_down:\n",
    "                if player[0] == 1:\n",
    "                    return \"split\"\n",
    "                elif player[0] == 2 or player[0] == 3:\n",
    "                    if dealer >= 2 and dealer <= 7:\n",
    "                        return \"split\"\n",
    "                    return \"hit\"\n",
    "                elif player[0] == 4:\n",
    "                    if dealer == 5 or dealer == 6:\n",
    "                        return \"split\"\n",
    "                    return \"hit\"\n",
    "                elif player[0] == 5:\n",
    "                    if dealer >= 2 and dealer <= 9:\n",
    "                        return \"double\"\n",
    "                    return \"hit\"\n",
    "                elif player[0] == 6 or player[0] == 7:\n",
    "                    if dealer >= 2 and dealer <= player[0]:\n",
    "                        return \"split\"\n",
    "                    return \"hit\"\n",
    "                elif player[0] == 8:\n",
    "                    return \"split\"\n",
    "                elif player[0] == 9:\n",
    "                    if dealer == 1 or dealer == 7 or dealer == 10:\n",
    "                        return \"stand\"\n",
    "                    return \"split\"\n",
    "                return \"stand\"\n",
    "            else:\n",
    "                if player[0] == 2 or player[0] == 3:\n",
    "                    if dealer >= 4 and dealer <= 7:\n",
    "                        return \"split\"\n",
    "                    return \"hit\"\n",
    "                elif player[0] == 4:\n",
    "                    return \"hit\"\n",
    "                elif player[0] == 6:\n",
    "                    if dealer >= 3 and dealer <= 6:\n",
    "                        return \"split\"\n",
    "                    return \"hit\"\n",
    "\n",
    "                \n",
    "    def calculate_round(self, ratio, bet):\n",
    "    \n",
    "        earning = bet * ratio\n",
    "        self.money = self.money + earning + np.sign(ratio+1) * bet\n",
    "        return earning\n",
    "\n",
    "    \n",
    "    def play_round(self, round_, action, deck, player, dealer, bet, money):\n",
    "        \"\"\"\n",
    "        Play one round of the game.\n",
    "        :param round_: current round of the game\n",
    "        :param action: action of the player. One of double, split, hit, stand.\n",
    "        :param i: index of the deck\n",
    "        :param cut_card: cut_card of the deck (where the game stops and a new one begins after shuffling)\n",
    "        :param deck:\n",
    "        :param bet: current bet of the player\n",
    "        :money: current money of the player\n",
    "        :return: i, cut_card, player, dealer, money\n",
    "        \"\"\"\n",
    "        if action == \"stand\":\n",
    "            dealer_sum = np.sum(dealer)\n",
    "            player_sum = np.sum(player)\n",
    "            if player_sum == 21:\n",
    "                if dealer_sum == 21:\n",
    "                    ratio = self.ratios[\"push\"]\n",
    "                    earning = calculate_round(ratio)\n",
    "                    logger.debug(\"Round:{} Push! Player:{} Dealer:{} Current bet:{} Earning ratio:{} Earning:{} Current Money:{}\".format(round_, player, dealer, bet, ratio, earning, self.money))\n",
    "                else:\n",
    "                    ratio = ratios[\"blackjack\"]\n",
    "                    earning = calculate_round(ratio)\n",
    "                    logger.debug(\"Round:{} Player BlackJack! Player:{} Dealer:{}, Current bet:{} Earning ratio:{} Earning:{} Current Money:{}\".format(round_, player, dealer, bet, ratio, earning, self.money))\n",
    "            else:\n",
    "                while dealer_sum < 17:\n",
    "                    # win case\n",
    "                    if dealer_sum > 21 or (21 - dealer_sum) > (21 - player_sum):\n",
    "                        ratio = ratios[\"win\"]\n",
    "                        earning = calculate_round(ratio)\n",
    "                        logger.debug(\"Round:{} Win! Player:{} Dealer:{}, Current bet:{} Earning ratio:{} Earning:{} Current Money:{}\".format(round_, player, dealer, bet, ratio, earning, self.money))\n",
    "                    # lost case\n",
    "                    if dealer_sum == 21 or (21 - dealer_sum) < (21 - player_sum):\n",
    "                        ratio = ratios[\"lost\"]\n",
    "                        earning = calculate_round(ratio)\n",
    "                        logger.debug(\"Round:{} Lost! Player:{} Dealer:{}, Current bet:{} Earning ratio:{} Earning:{} Current Money:{}\".format(round_, player, dealer, bet, ratio, earning, self.money))\n",
    "                    dealer = np.append(dealer, self.ceil_to_10(self.deck[i]))\n",
    "                    self.i += 1\n",
    "                    self.cut_card -= 1\n",
    "                    dealer_sum = np.sum(dealer)\n",
    "        elif action == \"hit\":\n",
    "            player = np.append(player, self.ceil_to_10(deck[i]))\n",
    "            self.i += 1\n",
    "            self.cut_card -= 1\n",
    "            player_sum = np.sum(player)\n",
    "            # busted case\n",
    "            if player_sum > 21:\n",
    "                ratio = ratios[\"lost\"]\n",
    "                earning = calculate_round(ratio)\n",
    "                logger.debug(\"Round:{} Lost! Player:{} Dealer:{}, Current bet:{} Earning ratio:{} Earning:{} Current Money:{}\".format(round_, player, dealer, bet, ratio, earning, self.money))\n",
    "            else:\n",
    "                action = self.apply_basic_strategy(player, dealer)\n",
    "                play_round()"
   ]
  },
  {
   "cell_type": "code",
   "execution_count": 25,
   "metadata": {},
   "outputs": [
    {
     "name": "stderr",
     "output_type": "stream",
     "text": [
      "INFO:Deck: [ 1  4  6  9  5  6  2 11 11  7  9  2  9  3 10  2  6  6 12  7 13 12  5 12  2\n",
      " 11  5  5  3  9  8  4  7  1 13  2  2  3  5  4  9  6  7  8 13 11  2  9  9  9\n",
      " 12  8 12  4  2  6  3 10  5  7  1 12  6 11  6 11 12  8  1 10  8  3  4  4  4\n",
      "  7  6  6  7  8  4 11 11  9 12  9  8  1 11  5  4  5  5  7  6 10 10 11  1  3\n",
      " 13 12  5  7  3  2 13 13 12 13  8  3  2 10 12 13 13 13 10  9  7  4  7 13  2\n",
      " 11 10 11  3  1 11  8  5  3  4 10  4  7  8  3  7  5  2 11  1  2  9 13  1 11\n",
      " 12  3  3  1 10  6  3  4 10  7  6  6  1 13  2  1 10  6 10  2 13  4  9  4 12\n",
      "  5 10 12  1  1 12  5  4  3  9 10  7  8  8  6 10 13  1  8  9  8  7 11  5 13\n",
      " 12  2  3  9  8  8  1  5]\n",
      "INFO:Deck length: 208\n",
      "INFO:Cut card: 164\n"
     ]
    }
   ],
   "source": [
    "# parameters and fixies.\n",
    "N = 4 # number of decks\n",
    "money = 100 # entry money\n",
    "bet = 1 # minimum bet\n",
    "deck = np.repeat(np.arange(1,14), 4*N)\n",
    "np.random.shuffle(deck) # inline shuffle\n",
    "ratios = {\"blackjack\":1.5, \"win\":1, \"push\":0, \"lost\": -1, \"insurance\": np.NaN} # ratios\n",
    "logger.info(\"Deck: {}\".format(deck))\n",
    "cut_card = np.random.randint(low=int(len(deck)/2), high=int(len(deck)))\n",
    "logger.info(\"Deck length: {}\".format(len(deck)))\n",
    "logger.info(\"Cut card: {}\".format(cut_card))\n",
    "vfunc = np.vectorize(ceil_to_10)"
   ]
  },
  {
   "cell_type": "code",
   "execution_count": 5,
   "metadata": {},
   "outputs": [
    {
     "name": "stdout",
     "output_type": "stream",
     "text": [
      "Cut card: 137\n",
      "Deck length: 208\n",
      "Round: 1 Player: [6 3] Dealer: 4 Action: double\n",
      "Round: 2 Player: [9 2] Dealer: 10 Action: double\n",
      "Round: 3 Player: [7 7] Dealer: 3 Action: split\n",
      "Round: 4 Player: [ 8 10] Dealer: 8 Action: stand\n",
      "Round: 5 Player: [3 2] Dealer: 8 Action: hit\n",
      "Round: 6 Player: [4 7] Dealer: 10 Action: double\n",
      "Round: 7 Player: [ 3 10] Dealer: 1 Action: hit\n",
      "Round: 8 Player: [1 6] Dealer: 10 Action: hit\n",
      "Round: 9 Player: [ 5 10] Dealer: 9 Action: hit\n",
      "Round: 10 Player: [ 3 10] Dealer: 5 Action: stand\n",
      "Round: 11 Player: [2 5] Dealer: 2 Action: hit\n",
      "Round: 12 Player: [5 1] Dealer: 9 Action: hit\n",
      "Round: 13 Player: [6 6] Dealer: 4 Action: split\n",
      "Round: 14 Player: [5 1] Dealer: 2 Action: hit\n",
      "Round: 15 Player: [6 4] Dealer: 10 Action: hit\n",
      "Round: 16 Player: [10  9] Dealer: 7 Action: stand\n",
      "Round: 17 Player: [ 2 10] Dealer: 4 Action: stand\n",
      "Round: 18 Player: [4 3] Dealer: 3 Action: hit\n",
      "Round: 19 Player: [ 1 10] Dealer: 2 Action: stand\n",
      "Round: 20 Player: [7 8] Dealer: 4 Action: stand\n",
      "Round: 21 Player: [ 5 10] Dealer: 1 Action: hit\n",
      "Round: 22 Player: [10  5] Dealer: 10 Action: hit\n",
      "Round: 23 Player: [2 3] Dealer: 7 Action: hit\n",
      "Round: 24 Player: [6 9] Dealer: 10 Action: hit\n",
      "Round: 25 Player: [7 7] Dealer: 5 Action: split\n",
      "Round: 26 Player: [3 8] Dealer: 1 Action: hit\n",
      "Round: 27 Player: [10 10] Dealer: 1 Action: stand\n",
      "Round: 28 Player: [ 4 10] Dealer: 9 Action: hit\n",
      "Round: 29 Player: [7 6] Dealer: 10 Action: hit\n",
      "Round: 30 Player: [10 10] Dealer: 4 Action: stand\n",
      "Round: 31 Player: [6 6] Dealer: 1 Action: hit\n",
      "Round: 32 Player: [5 8] Dealer: 8 Action: hit\n",
      "Round: 33 Player: [10  9] Dealer: 10 Action: stand\n",
      "Round: 34 Player: [3 1] Dealer: 4 Action: hit\n",
      "Round: 35 Player: [8 1] Dealer: 9 Action: stand\n",
      "Round: 36 Player: [10  6] Dealer: 10 Action: hit\n",
      "Round: 37 Player: [7 2] Dealer: 10 Action: hit\n",
      "Round: 38 Player: [10  9] Dealer: 10 Action: stand\n",
      "Round: 39 Player: [10  8] Dealer: 8 Action: stand\n",
      "Round: 40 Player: [10  4] Dealer: 10 Action: hit\n",
      "Round: 41 Player: [6 3] Dealer: 1 Action: hit\n",
      "Round: 42 Player: [10 10] Dealer: 8 Action: stand\n",
      "Round: 43 Player: [ 8 10] Dealer: 4 Action: stand\n",
      "Round: 44 Player: [10 10] Dealer: 1 Action: stand\n",
      "Round: 45 Player: [10  5] Dealer: 2 Action: stand\n",
      "Round: 46 Player: [3 7] Dealer: 8 Action: double\n"
     ]
    }
   ],
   "source": [
    "# actions: double, split, hit, stand\n",
    "# main loop\n",
    "i = 0\n",
    "round_ = 0\n",
    "print(\"Cut card: {}\".format(cut_card))\n",
    "print(\"Deck length: {}\".format(len(deck)))\n",
    "while cut_card > 0 and i < len(deck):\n",
    "    round_ += 1\n",
    "    bet = 1\n",
    "    money -= bet\n",
    "    player = vfunc(deck[i:i+2])\n",
    "    dealer = vfunc(deck[i+2:i+4])\n",
    "    i = i+4\n",
    "    cut_card -= 4\n",
    "    # only at the beginning\n",
    "    if np.sum(player) == 21:\n",
    "        ratio = ratios[\"blackjack\"]\n",
    "        earning = bet * ratio\n",
    "        money += earning + bet\n",
    "        logger.debug(\"Round:{} Player BlackJack! Current bet:{} Earning ratio:{} Earning:{} Current Money:{}\".format(round_, bet, ratio, earning, money))\n",
    "        continue\n",
    "    action = apply_basic_strategy(player, dealer[0])\n",
    "    logger.debug(\"Round: {} Player: {} Dealer: {} Action: {}\".format(round_, player, dealer, action))\n",
    "    i, cut_card, player, dealer, money = play_game(round_, action, i, cut_card, deck, player, dealer, bet, money):"
   ]
  },
  {
   "cell_type": "code",
   "execution_count": 10,
   "metadata": {},
   "outputs": [
    {
     "data": {
      "text/plain": [
       "11"
      ]
     },
     "execution_count": 10,
     "metadata": {},
     "output_type": "execute_result"
    }
   ],
   "source": [
    "abs(sum(player) - 21)"
   ]
  },
  {
   "cell_type": "code",
   "execution_count": 52,
   "metadata": {},
   "outputs": [
    {
     "name": "stdout",
     "output_type": "stream",
     "text": [
      "[10  8]\n"
     ]
    }
   ],
   "source": [
    "dealer = deck[2:4]\n",
    "print(dealer)\n",
    "dealer = np.append(dealer, deck[5])"
   ]
  },
  {
   "cell_type": "code",
   "execution_count": 53,
   "metadata": {},
   "outputs": [
    {
     "data": {
      "text/plain": [
       "array([10,  8,  8])"
      ]
     },
     "execution_count": 53,
     "metadata": {},
     "output_type": "execute_result"
    }
   ],
   "source": [
    "dealer"
   ]
  },
  {
   "cell_type": "code",
   "execution_count": 20,
   "metadata": {},
   "outputs": [],
   "source": [
    "player = np.append(player, 1)"
   ]
  },
  {
   "cell_type": "code",
   "execution_count": 21,
   "metadata": {},
   "outputs": [
    {
     "data": {
      "text/plain": [
       "array([3, 7, 1])"
      ]
     },
     "execution_count": 21,
     "metadata": {},
     "output_type": "execute_result"
    }
   ],
   "source": [
    "player"
   ]
  },
  {
   "cell_type": "code",
   "execution_count": 23,
   "metadata": {},
   "outputs": [
    {
     "data": {
      "text/plain": [
       "11"
      ]
     },
     "execution_count": 23,
     "metadata": {},
     "output_type": "execute_result"
    }
   ],
   "source": [
    "sum(player)"
   ]
  },
  {
   "cell_type": "code",
   "execution_count": 29,
   "metadata": {},
   "outputs": [
    {
     "ename": "AttributeError",
     "evalue": "module 'numpy' has no attribute 'heaviside'",
     "output_type": "error",
     "traceback": [
      "\u001b[0;31m---------------------------------------------------------------------------\u001b[0m",
      "\u001b[0;31mAttributeError\u001b[0m                            Traceback (most recent call last)",
      "\u001b[0;32m<ipython-input-29-3b98628e4954>\u001b[0m in \u001b[0;36m<module>\u001b[0;34m()\u001b[0m\n\u001b[0;32m----> 1\u001b[0;31m \u001b[0mnp\u001b[0m\u001b[0;34m.\u001b[0m\u001b[0mheaviside\u001b[0m\u001b[0;34m(\u001b[0m\u001b[0;36m0\u001b[0m\u001b[0;34m,\u001b[0m\u001b[0;36m0\u001b[0m\u001b[0;34m)\u001b[0m\u001b[0;34m\u001b[0m\u001b[0m\n\u001b[0m",
      "\u001b[0;31mAttributeError\u001b[0m: module 'numpy' has no attribute 'heaviside'"
     ]
    }
   ],
   "source": [
    "np.heaviside(0,0)"
   ]
  },
  {
   "cell_type": "code",
   "execution_count": 33,
   "metadata": {},
   "outputs": [
    {
     "data": {
      "text/plain": [
       "0"
      ]
     },
     "execution_count": 33,
     "metadata": {},
     "output_type": "execute_result"
    }
   ],
   "source": [
    "np.sign(-1+1)"
   ]
  },
  {
   "cell_type": "code",
   "execution_count": 36,
   "metadata": {},
   "outputs": [
    {
     "data": {
      "text/plain": [
       "array([ 1,  4,  6,  9,  5,  6,  2, 11, 11,  7,  9,  2,  9,  3, 10,  2,  6,\n",
       "        6, 12,  7, 13, 12,  5, 12,  2, 11,  5,  5,  3,  9,  8,  4,  7,  1,\n",
       "       13,  2,  2,  3,  5,  4,  9,  6,  7,  8, 13, 11,  2,  9,  9,  9, 12,\n",
       "        8, 12,  4,  2,  6,  3, 10,  5,  7,  1, 12,  6, 11,  6, 11, 12,  8,\n",
       "        1, 10,  8,  3,  4,  4,  4,  7,  6,  6,  7,  8,  4, 11, 11,  9, 12,\n",
       "        9,  8,  1, 11,  5,  4,  5,  5,  7,  6, 10, 10, 11,  1,  3, 13, 12,\n",
       "        5,  7,  3,  2, 13, 13, 12, 13,  8,  3,  2, 10, 12, 13, 13, 13, 10,\n",
       "        9,  7,  4,  7, 13,  2, 11, 10, 11,  3,  1, 11,  8,  5,  3,  4, 10,\n",
       "        4,  7,  8,  3,  7,  5,  2, 11,  1,  2,  9, 13,  1, 11, 12,  3,  3,\n",
       "        1, 10,  6,  3,  4, 10,  7,  6,  6,  1, 13,  2,  1, 10,  6, 10,  2,\n",
       "       13,  4,  9,  4, 12,  5, 10, 12,  1,  1, 12,  5,  4,  3,  9, 10,  7,\n",
       "        8,  8,  6, 10, 13,  1,  8,  9,  8,  7, 11,  5, 13, 12,  2,  3,  9,\n",
       "        8,  8,  1,  5])"
      ]
     },
     "execution_count": 36,
     "metadata": {},
     "output_type": "execute_result"
    }
   ],
   "source": [
    "deck"
   ]
  },
  {
   "cell_type": "code",
   "execution_count": 38,
   "metadata": {},
   "outputs": [
    {
     "data": {
      "text/plain": [
       "array([1, 5])"
      ]
     },
     "execution_count": 38,
     "metadata": {},
     "output_type": "execute_result"
    }
   ],
   "source": [
    "deck[[0, 4]]"
   ]
  },
  {
   "cell_type": "code",
   "execution_count": null,
   "metadata": {
    "collapsed": true
   },
   "outputs": [],
   "source": []
  }
 ],
 "metadata": {
  "kernelspec": {
   "display_name": "Python 3",
   "language": "python",
   "name": "python3"
  },
  "language_info": {
   "codemirror_mode": {
    "name": "ipython",
    "version": 3
   },
   "file_extension": ".py",
   "mimetype": "text/x-python",
   "name": "python",
   "nbconvert_exporter": "python",
   "pygments_lexer": "ipython3",
   "version": "3.6.2"
  }
 },
 "nbformat": 4,
 "nbformat_minor": 2
}
