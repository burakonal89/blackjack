{
 "cells": [
  {
   "cell_type": "markdown",
   "metadata": {},
   "source": [
    "### Simualting BlackJack"
   ]
  },
  {
   "cell_type": "code",
   "execution_count": 38,
   "metadata": {},
   "outputs": [],
   "source": [
    "import numpy as np\n",
    "import matplotlib.pyplot as plt\n",
    "%matplotlib inline"
   ]
  },
  {
   "cell_type": "code",
   "execution_count": 45,
   "metadata": {
    "collapsed": true
   },
   "outputs": [],
   "source": [
    "ceil_to_10 = lambda x: 10 if x>10 else x\n",
    "def basic_strategy_rules(player, dealer, doubling_down=True):\n",
    "    \"\"\"\n",
    "    Apply basic strategy rules.\n",
    "    Details: http://www.cs.bu.edu/~hwxi/academic/courses/CS320/Spring02/assignments/06/basic-strategy.html\n",
    "    player: player cards ceiled to 10\n",
    "    dealer: dealer card ceiled to 10\n",
    "    \"\"\"\n",
    "    summe = sum(player)\n",
    "    if player[0] != player[1]:\n",
    "        if 1 not in player:\n",
    "            if summe <= 8:\n",
    "                return \"hit\"\n",
    "            elif summe == 9:\n",
    "                if dealer >= 3 and dealer <= 6:\n",
    "                    return \"double\"\n",
    "                return \"hit\"\n",
    "            elif summe == 10:\n",
    "                if dealer >= 2 and dealer <= 9:\n",
    "                    return \"double\"\n",
    "                return \"hit\"\n",
    "            elif summe == 11:\n",
    "                if dealer >= 2 and dealer <= 10:\n",
    "                    return \"double\"\n",
    "                return \"hit\"\n",
    "            elif summe == 12:\n",
    "                if dealer >= 4 and dealer <= 6:\n",
    "                    return \"stand\"\n",
    "                return \"hit\"\n",
    "            elif summe >= 13 and summe <= 16:\n",
    "                if dealer >= 2 and dealer <= 6:\n",
    "                    return \"stand\"\n",
    "                return \"hit\"\n",
    "            return \"stand\"\n",
    "        else:\n",
    "            if summe == 3 or summe == 4:\n",
    "                if dealer == 5 or dealer == 6:\n",
    "                    return \"double\"\n",
    "                return \"hit\"\n",
    "            elif summe == 5 or summe == 6:\n",
    "                if dealer >= 4 and dealer <= 6:\n",
    "                    return \"double\"\n",
    "                return \"hit\"\n",
    "            elif summe == 7:\n",
    "                if dealer >= 3 and dealer <= 6:\n",
    "                    return \"double\"\n",
    "                return \"hit\"\n",
    "            elif summe == 8:\n",
    "                if dealer >= 3 and dealer <= 6:\n",
    "                    return \"double\"\n",
    "                elif dealer == 2 or dealer == 7 or dealer == 8:\n",
    "                    return \"stand\"\n",
    "                return \"hit\"\n",
    "            else:\n",
    "                return \"stand\"\n",
    "    else:\n",
    "        if doubling_down:\n",
    "            if player[0] == 1:\n",
    "                return \"split\"\n",
    "            elif player[0] == 2 or player[0] == 3:\n",
    "                if dealer >= 2 and dealer <= 7:\n",
    "                    return \"split\"\n",
    "                return \"hit\"\n",
    "            elif player[0] == 4:\n",
    "                if dealer == 5 or dealer == 6:\n",
    "                    return \"split\"\n",
    "                return \"hit\"\n",
    "            elif player[0] == 5:\n",
    "                if dealer >= 2 and dealer <= 9:\n",
    "                    return \"double\"\n",
    "                return \"hit\"\n",
    "            elif player[0] == 6 or player[0] == 7:\n",
    "                if dealer >= 2 and dealer <= player[0]:\n",
    "                    return \"split\"\n",
    "                return \"hit\"\n",
    "            elif player[0] == 8:\n",
    "                return \"split\"\n",
    "            elif player[0] == 9:\n",
    "                if dealer == 1 or dealer == 7 or dealer == 10:\n",
    "                    return \"stand\"\n",
    "                return \"split\"\n",
    "            return \"stand\"\n",
    "        else:\n",
    "            if player[0] == 2 or player[0] == 3:\n",
    "                if dealer >= 4 and dealer <= 7:\n",
    "                    return \"split\"\n",
    "                return \"hit\"\n",
    "            elif player[0] == 4:\n",
    "                return \"hit\"\n",
    "            elif player[0] == 6:\n",
    "                if dealer >= 3 and dealer <= 6:\n",
    "                    return \"split\"\n",
    "                return \"hit\""
   ]
  },
  {
   "cell_type": "code",
   "execution_count": 56,
   "metadata": {},
   "outputs": [
    {
     "name": "stdout",
     "output_type": "stream",
     "text": [
      "[11  3  7  6 13  6  5  4  3  3 11 12  8  1 12  2  5 10 12 13  6  3  5 13  5\n",
      "  1  3  6  2  3  2  5 11 11  2  5  9  3 12  1  2  2  8  1  8 12 10  8  2  4\n",
      "  2 13  6  4 12  4 10 10 12  1 11  9  4 10  1  4  2 13 10 13  5  6 12  6  2\n",
      "  8  9 13  1 11  5  8  9  5 11  2  3 10  6  4 12 10  3  4  5 12 10  5  7 13\n",
      "  6  1  6  7 13  8  9 10  9 10  4  3  7 11  2  8  2 10  9  9  5 11 12  8  9\n",
      "  9 12  8 13  8  8  3  1 10  8 11  5  2  7  4  5  1  5  4  3  7  8  7  3 13\n",
      " 13 12 13 11  6  7  7  4  1  1  9  7  1  6 10  9  1 13 12  7  7 11  6  4  1\n",
      "  2  7  6  8 13  4 11  9  6  9 12  3  4  7 11  7 10  4  9 10 12  1  8  2  7\n",
      "  5  3 13  9  6 11  3 11]\n",
      "208\n",
      "146\n"
     ]
    }
   ],
   "source": [
    "# parameters\n",
    "N = 4 # number of decks\n",
    "money = 100 # entry money\n",
    "bet = 1 # minimum bet\n",
    "deck = np.repeat(np.arange(1,14), 4*N)\n",
    "np.random.shuffle(deck) # inline shuffle\n",
    "print(deck)\n",
    "cut_card = np.random.randint(low=int(len(deck)/2), high=int(len(deck)))\n",
    "print(len(deck))\n",
    "print(cut_card)"
   ]
  },
  {
   "cell_type": "code",
   "execution_count": 54,
   "metadata": {},
   "outputs": [
    {
     "name": "stdout",
     "output_type": "stream",
     "text": [
      "stand\n",
      "hit\n",
      "hit\n",
      "hit\n",
      "hit\n",
      "split\n",
      "stand\n",
      "stand\n",
      "hit\n",
      "hit\n",
      "stand\n",
      "hit\n",
      "stand\n",
      "stand\n",
      "hit\n",
      "stand\n",
      "double\n",
      "stand\n",
      "hit\n",
      "hit\n",
      "stand\n",
      "hit\n",
      "hit\n",
      "stand\n",
      "stand\n",
      "hit\n",
      "hit\n",
      "hit\n",
      "stand\n",
      "hit\n",
      "stand\n",
      "hit\n",
      "stand\n",
      "stand\n",
      "stand\n",
      "stand\n",
      "hit\n",
      "stand\n",
      "hit\n"
     ]
    }
   ],
   "source": [
    "# main loop\n",
    "i = 0\n",
    "counter = 0\n",
    "while cut_card>0 and i<len(deck):\n",
    "    counter += 1\n",
    "    bet = 1\n",
    "    player = deck[i:i+2]\n",
    "    dealer = deck[i+2]\n",
    "    i = i+3\n",
    "    cut_card -= 3\n",
    "    print(basic_strategy_rules(player, dealer))\n",
    "print(counter)\n",
    "print(i)\n",
    "print(cut_card)\n",
    "# player = deck[:2]\n",
    "# dealer = deck[2:4]\n",
    "# print(player)\n",
    "# print(dealer)\n",
    "# vfunc = np.vectorize(ceil210)\n",
    "# vfunc(player)"
   ]
  },
  {
   "cell_type": "code",
   "execution_count": 24,
   "metadata": {},
   "outputs": [
    {
     "data": {
      "text/plain": [
       "array([ 1, 13])"
      ]
     },
     "execution_count": 24,
     "metadata": {},
     "output_type": "execute_result"
    }
   ],
   "source": [
    "print()"
   ]
  },
  {
   "cell_type": "code",
   "execution_count": 52,
   "metadata": {},
   "outputs": [
    {
     "name": "stdout",
     "output_type": "stream",
     "text": [
      "[10  8]\n"
     ]
    }
   ],
   "source": [
    "dealer = deck[2:4]\n",
    "print(dealer)\n",
    "dealer = np.append(dealer, deck[5])"
   ]
  },
  {
   "cell_type": "code",
   "execution_count": 53,
   "metadata": {},
   "outputs": [
    {
     "data": {
      "text/plain": [
       "array([10,  8,  8])"
      ]
     },
     "execution_count": 53,
     "metadata": {},
     "output_type": "execute_result"
    }
   ],
   "source": [
    "dealer"
   ]
  },
  {
   "cell_type": "code",
   "execution_count": null,
   "metadata": {
    "collapsed": true
   },
   "outputs": [],
   "source": []
  }
 ],
 "metadata": {
  "kernelspec": {
   "display_name": "Python 3",
   "language": "python",
   "name": "python3"
  },
  "language_info": {
   "codemirror_mode": {
    "name": "ipython",
    "version": 3
   },
   "file_extension": ".py",
   "mimetype": "text/x-python",
   "name": "python",
   "nbconvert_exporter": "python",
   "pygments_lexer": "ipython3",
   "version": "3.6.2"
  }
 },
 "nbformat": 4,
 "nbformat_minor": 2
}
