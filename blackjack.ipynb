{
 "cells": [
  {
   "cell_type": "code",
   "execution_count": 1,
   "metadata": {},
   "outputs": [],
   "source": [
    "from Game_new import Game\n",
    "import numpy as np"
   ]
  },
  {
   "cell_type": "code",
   "execution_count": 6,
   "metadata": {},
   "outputs": [
    {
     "name": "stderr",
     "output_type": "stream",
     "text": [
      "INFO:root:The game starts.\n",
      "Deck: [11  7  1 12  3 13  1  4  1 12  3 11  3  6  3  6  7  4  4  1 13  8 11 10\n",
      " 11  7  8 11  5  3  8  1 13  2  8  8  1  1  4  2  6  3  5 12  6  7 12  3\n",
      "  1  5 10  2  7  9  8  6  5  9  1  2  3  9  1  5 13  8 12 10  1  6 11 12\n",
      "  6  4  3 10  1  8  2  4  9  9  2  1 12  6 13  2  6  6  6 12 10  8  6 10\n",
      " 13  3  1  7  5  9  5  5 12 12 11 13  8 10  3 10 12  3 13  2  4  9  7  1\n",
      "  5  8  9  7  9  2 10 12 13 13  5  6 12  7  9  9  9 11 10  2 12  5  1  6\n",
      "  5 10  3  9 12  4 13 12  5 10  8 12  3 10  9  2  7  1 12  4  5  4  2  1\n",
      "  3  4 13 11  2  7  5 10  1  2  4 11 12  6 11  2  2  9 10  7  9  6  8  4\n",
      "  5 10 13  1  7 13  5  3  1  4  3 10  7 10  5  4  9  5 13  2 11  4  4  4\n",
      "  7 11  3  2  5  3  9 11 13 12 11  9  3  4  5 13  8 11 13 11 12  9 10  8\n",
      "  7 10 10  6  7  5  8  5  4  1  3  4 12  4  3  7  7 10  9 13  6  8  7 12\n",
      "  8  8  4 11  3  2 13 11  1  2  2  8  6  8  9  7  9  7  8 11  2 11 11  7\n",
      " 13 13 12  8  8 13  6  9  7 11  6  6  6 11  3  5  2  2  4  6  1 10 13 10]\n",
      "The ratios:{'blackjack': 1.5, 'win': 1, 'push': 0, 'lost': -1, 'insurance': nan}\n",
      "The deck length:312\n",
      "Cut card position:165\n"
     ]
    }
   ],
   "source": [
    "game = Game(players=['basic strategy', 'card counting', 'random'],\n",
    "            start_moneys=[100,100,100],\n",
    "            bet=1,\n",
    "            number_of_decks=6,\n",
    "            logging_level='info')"
   ]
  },
  {
   "cell_type": "code",
   "execution_count": 7,
   "metadata": {},
   "outputs": [
    {
     "name": "stdout",
     "output_type": "stream",
     "text": [
      "{0: [[]], 1: [[]], 2: [[]], -1: []}\n",
      "{0: [[11, 3]], 1: [[7, 13]], 2: [[1, 1]], -1: [12, 4]}\n"
     ]
    }
   ],
   "source": [
    "print(game.hands)\n",
    "game.distribute_cards()\n",
    "print(game.hands)"
   ]
  },
  {
   "cell_type": "code",
   "execution_count": 3,
   "metadata": {},
   "outputs": [],
   "source": [
    "def calculate_hand_status(hand):\n",
    "    \"\"\"\n",
    "    Ace can worth 1 or 11 depending on the hand.\n",
    "    :param hand: List of cards from players or the dealer\n",
    "    :return: closest sum to 21\n",
    "    \"\"\"\n",
    "\n",
    "    hand = [min(10, card) for card in hand]\n",
    "    prev_sum = sum(hand)\n",
    "    curr_sum = prev_sum\n",
    "    if 1 in hand:\n",
    "        hand[np.where(hand == 1)[0][0]] = 11\n",
    "        curr_sum = hand.sum()\n",
    "        hand[np.where(hand == 11)[0][0]] = 1\n",
    "    if abs(21-curr_sum) < abs(21-prev_sum) and curr_sum < 21:\n",
    "        return curr_sum\n",
    "    return prev_sum"
   ]
  },
  {
   "cell_type": "code",
   "execution_count": 4,
   "metadata": {},
   "outputs": [
    {
     "ename": "IndexError",
     "evalue": "index 0 is out of bounds for axis 0 with size 0",
     "output_type": "error",
     "traceback": [
      "\u001b[0;31m---------------------------------------------------------------------------\u001b[0m",
      "\u001b[0;31mIndexError\u001b[0m                                Traceback (most recent call last)",
      "\u001b[0;32m<ipython-input-4-1aa64306b78d>\u001b[0m in \u001b[0;36m<module>\u001b[0;34m\u001b[0m\n\u001b[0;32m----> 1\u001b[0;31m \u001b[0mprint\u001b[0m\u001b[0;34m(\u001b[0m\u001b[0mcalculate_hand_status\u001b[0m\u001b[0;34m(\u001b[0m\u001b[0;34m[\u001b[0m\u001b[0;36m1\u001b[0m\u001b[0;34m,\u001b[0m \u001b[0;36m10\u001b[0m\u001b[0;34m]\u001b[0m\u001b[0;34m)\u001b[0m\u001b[0;34m)\u001b[0m\u001b[0;34m\u001b[0m\u001b[0;34m\u001b[0m\u001b[0m\n\u001b[0m",
      "\u001b[0;32m<ipython-input-3-8cf630525601>\u001b[0m in \u001b[0;36mcalculate_hand_status\u001b[0;34m(hand)\u001b[0m\n\u001b[1;32m     10\u001b[0m     \u001b[0mcurr_sum\u001b[0m \u001b[0;34m=\u001b[0m \u001b[0mprev_sum\u001b[0m\u001b[0;34m\u001b[0m\u001b[0;34m\u001b[0m\u001b[0m\n\u001b[1;32m     11\u001b[0m     \u001b[0;32mif\u001b[0m \u001b[0;36m1\u001b[0m \u001b[0;32min\u001b[0m \u001b[0mhand\u001b[0m\u001b[0;34m:\u001b[0m\u001b[0;34m\u001b[0m\u001b[0;34m\u001b[0m\u001b[0m\n\u001b[0;32m---> 12\u001b[0;31m         \u001b[0mhand\u001b[0m\u001b[0;34m[\u001b[0m\u001b[0mnp\u001b[0m\u001b[0;34m.\u001b[0m\u001b[0mwhere\u001b[0m\u001b[0;34m(\u001b[0m\u001b[0mhand\u001b[0m \u001b[0;34m==\u001b[0m \u001b[0;36m1\u001b[0m\u001b[0;34m)\u001b[0m\u001b[0;34m[\u001b[0m\u001b[0;36m0\u001b[0m\u001b[0;34m]\u001b[0m\u001b[0;34m[\u001b[0m\u001b[0;36m0\u001b[0m\u001b[0;34m]\u001b[0m\u001b[0;34m]\u001b[0m \u001b[0;34m=\u001b[0m \u001b[0;36m11\u001b[0m\u001b[0;34m\u001b[0m\u001b[0;34m\u001b[0m\u001b[0m\n\u001b[0m\u001b[1;32m     13\u001b[0m         \u001b[0mcurr_sum\u001b[0m \u001b[0;34m=\u001b[0m \u001b[0mhand\u001b[0m\u001b[0;34m.\u001b[0m\u001b[0msum\u001b[0m\u001b[0;34m(\u001b[0m\u001b[0;34m)\u001b[0m\u001b[0;34m\u001b[0m\u001b[0;34m\u001b[0m\u001b[0m\n\u001b[1;32m     14\u001b[0m         \u001b[0mhand\u001b[0m\u001b[0;34m[\u001b[0m\u001b[0mnp\u001b[0m\u001b[0;34m.\u001b[0m\u001b[0mwhere\u001b[0m\u001b[0;34m(\u001b[0m\u001b[0mhand\u001b[0m \u001b[0;34m==\u001b[0m \u001b[0;36m11\u001b[0m\u001b[0;34m)\u001b[0m\u001b[0;34m[\u001b[0m\u001b[0;36m0\u001b[0m\u001b[0;34m]\u001b[0m\u001b[0;34m[\u001b[0m\u001b[0;36m0\u001b[0m\u001b[0;34m]\u001b[0m\u001b[0;34m]\u001b[0m \u001b[0;34m=\u001b[0m \u001b[0;36m1\u001b[0m\u001b[0;34m\u001b[0m\u001b[0;34m\u001b[0m\u001b[0m\n",
      "\u001b[0;31mIndexError\u001b[0m: index 0 is out of bounds for axis 0 with size 0"
     ]
    }
   ],
   "source": [
    "print(calculate_hand_status([1, 10]))"
   ]
  },
  {
   "cell_type": "code",
   "execution_count": 5,
   "metadata": {},
   "outputs": [
    {
     "data": {
      "text/plain": [
       "False"
      ]
     },
     "execution_count": 5,
     "metadata": {},
     "output_type": "execute_result"
    }
   ],
   "source": [
    "hand = [1, 10]\n",
    "# np.where[hand]\n",
    "hand == 1"
   ]
  },
  {
   "cell_type": "code",
   "execution_count": null,
   "metadata": {},
   "outputs": [],
   "source": []
  }
 ],
 "metadata": {
  "kernelspec": {
   "display_name": "Python 3",
   "language": "python",
   "name": "python3"
  },
  "language_info": {
   "codemirror_mode": {
    "name": "ipython",
    "version": 3
   },
   "file_extension": ".py",
   "mimetype": "text/x-python",
   "name": "python",
   "nbconvert_exporter": "python",
   "pygments_lexer": "ipython3",
   "version": "3.6.9"
  },
  "toc": {
   "base_numbering": 1,
   "nav_menu": {},
   "number_sections": true,
   "sideBar": true,
   "skip_h1_title": false,
   "title_cell": "Table of Contents",
   "title_sidebar": "Contents",
   "toc_cell": false,
   "toc_position": {},
   "toc_section_display": true,
   "toc_window_display": false
  }
 },
 "nbformat": 4,
 "nbformat_minor": 2
}
